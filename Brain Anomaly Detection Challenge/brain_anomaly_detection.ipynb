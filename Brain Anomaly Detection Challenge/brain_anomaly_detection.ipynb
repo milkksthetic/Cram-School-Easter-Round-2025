{
  "nbformat": 4,
  "nbformat_minor": 0,
  "metadata": {
    "colab": {
      "provenance": []
    },
    "kernelspec": {
      "name": "python3",
      "display_name": "Python 3"
    },
    "language_info": {
      "name": "python"
    }
  },
  "cells": [
    {
      "cell_type": "code",
      "execution_count": 7,
      "metadata": {
        "id": "iEK4mIrUT8wd"
      },
      "outputs": [],
      "source": [
        "import pandas as pd\n",
        "import numpy as np\n",
        "\n",
        "\n",
        "# === Read the data\n",
        "df_train = pd.read_csv(\"processed_train.csv\",  dtype={\"id\": str})\n",
        "df_test = pd.read_csv(\"processed_test.csv\",  dtype={\"id\": str})\n",
        "\n",
        "# === Extract photo\n",
        "df_train[\"pixels\"] = df_train[\"pixels\"].apply(eval)\n",
        "df_test[\"pixels\"] = df_test[\"pixels\"].apply(eval)\n"
      ]
    },
    {
      "cell_type": "code",
      "source": [
        "# === Subtask 1\n",
        "subtask1_rows = []\n",
        "vectors = []\n",
        "for i, row in df_train.iterrows():\n",
        "    vector = np.array(row[\"pixels\"])\n",
        "    vectors.append(vector)\n",
        "\n",
        "global_mean_vector = np.mean(vectors, axis=0)\n",
        "\n",
        "for i, row in df_train.iterrows():\n",
        "    centered_output = np.array(row[\"pixels\"]) - global_mean_vector\n",
        "    subtask1_rows.append((1, row[\"id\"], centered_output))"
      ],
      "metadata": {
        "colab": {
          "base_uri": "https://localhost:8080/"
        },
        "collapsed": true,
        "id": "Yr-PlpAVVmf2",
        "outputId": "b42a5ec7-35e4-4a3d-dcc0-536e627b9090"
      },
      "execution_count": 10,
      "outputs": [
        {
          "output_type": "stream",
          "name": "stdout",
          "text": [
            "(1, '015002', array([-0.10046729, -0.10046729, -0.10046729, ..., -0.57476636,\n",
            "       -0.66238318, -0.43457944]))\n",
            "(1, '015003', array([-0.10046729, -0.10046729, -0.10046729, ..., -0.57476636,\n",
            "       -0.66238318, -0.43457944]))\n"
          ]
        }
      ]
    },
    {
      "cell_type": "code",
      "source": [
        "# === Subtask 2\n",
        "from sklearn.ensemble import AdaBoostClassifier, ExtraTreesClassifier, HistGradientBoostingClassifier\n",
        "from sklearn.metrics import accuracy_score\n",
        "from sklearn.model_selection import train_test_split\n",
        "\n",
        "X_train = np.vstack(df_train[\"pixels\"].values)\n",
        "y_train = df_train[\"class\"]\n",
        "\n",
        "X_train, X_val, y_train, y_val = train_test_split(X_train, y_train, test_size=0.2, random_state=42)\n",
        "\n",
        "clf = ExtraTreesClassifier(random_state=42)\n",
        "clf.fit(X_train, y_train)\n",
        "\n",
        "y_val_pred = clf.predict(X_val)\n",
        "accuracy = accuracy_score(y_val, y_val_pred)\n",
        "print(f\"Accuracy: {accuracy}\")\n",
        "\n"
      ],
      "metadata": {
        "colab": {
          "base_uri": "https://localhost:8080/"
        },
        "id": "OxYaZMVDbk_x",
        "outputId": "a9d6b24b-e60a-4c79-9978-441ede9c4cc6"
      },
      "execution_count": 28,
      "outputs": [
        {
          "output_type": "stream",
          "name": "stdout",
          "text": [
            "Accuracy: 0.8662790697674418\n"
          ]
        }
      ]
    },
    {
      "cell_type": "markdown",
      "source": [
        "- HistGradientBoostingClassifier - 0.8546511627906976\n",
        "- AdaBoost - 0.8604651162790697\n",
        "- ExtraTrees - 0.8662790697674418"
      ],
      "metadata": {
        "id": "znKwfpoOd1g3"
      }
    },
    {
      "cell_type": "code",
      "source": [
        "X_test = np.vstack(df_test[\"pixels\"].values)\n",
        "y_pred = clf.predict(X_test)\n",
        "\n",
        "subtask2_rows = []\n",
        "for id_, pred in zip(df_test[\"id\"], y_pred):\n",
        "    subtask2_rows.append((2, id_, pred))\n"
      ],
      "metadata": {
        "id": "m35B49I2VFqC"
      },
      "execution_count": 29,
      "outputs": []
    },
    {
      "cell_type": "code",
      "source": [
        "# === Final submission\n",
        "submission_rows = subtask1_rows + subtask2_rows\n",
        "df_submission = pd.DataFrame(submission_rows, columns=[\"subtaskID\", \"datapointID\", \"answer\"])\n",
        "df_submission.to_csv(\"submission.csv\", index=False)"
      ],
      "metadata": {
        "id": "K_UZhrm7Zdly"
      },
      "execution_count": 30,
      "outputs": []
    }
  ]
}