{
  "nbformat": 4,
  "nbformat_minor": 0,
  "metadata": {
    "colab": {
      "provenance": []
    },
    "kernelspec": {
      "name": "python3",
      "display_name": "Python 3"
    },
    "language_info": {
      "name": "python"
    }
  },
  "cells": [
    {
      "cell_type": "code",
      "execution_count": null,
      "metadata": {
        "id": "14iGmIBS4K9Y"
      },
      "outputs": [],
      "source": [
        "import pandas as pd\n",
        "# Remember to upload the train and test data csv\n",
        "# === Read the data\n",
        "df_train = pd.read_csv(\"train_data.csv\")\n",
        "df_test = pd.read_csv(\"test_data.csv\")"
      ]
    },
    {
      "cell_type": "code",
      "source": [
        "# Subtask 1\n",
        "import csv\n",
        "import re\n",
        "\n",
        "with open(\"output.csv\", \"w\") as output:\n",
        "    writer = csv.DictWriter(output, fieldnames=[\"subtaskID\", \"datapointID\", \"answer\"])\n",
        "    writer.writeheader()\n",
        "\n",
        "with open(\"test_data.csv\") as test:\n",
        "    reader = csv.reader(test)\n",
        "    next(reader)\n",
        "\n",
        "    for row in reader:\n",
        "        if re.search(r\"([0][0-9]:[0-5][0-9]:[0-5][0-9])\", row[1]) or re.search(r\"([1][0-1]:[0-5][0-9]:[0-5][0-9])\", row[1]):\n",
        "            with open(\"output.csv\", \"a\") as output:\n",
        "                writer = csv.DictWriter(output, fieldnames=[\"subtaskID\", \"datapointID\", \"answer\"])\n",
        "                writer.writerow({\"subtaskID\": 1, \"datapointID\": row[0], \"answer\": \"AM\"})\n",
        "\n",
        "        else:\n",
        "            with open(\"output.csv\", \"a\") as output:\n",
        "                writer = csv.DictWriter(output, fieldnames=[\"subtaskID\", \"datapointID\", \"answer\"])\n",
        "                writer.writerow({\"subtaskID\": 1, \"datapointID\": row[0], \"answer\": \"PM\"})"
      ],
      "metadata": {
        "collapsed": true,
        "id": "CSFCgO1558ie"
      },
      "execution_count": null,
      "outputs": []
    },
    {
      "cell_type": "code",
      "source": [
        "# Subtask 2\n",
        "from sklearn.ensemble import HistGradientBoostingClassifier, HistGradientBoostingRegressor, RandomForestClassifier\n",
        "from sklearn.metrics import accuracy_score\n",
        "from sklearn.model_selection import train_test_split\n",
        "from sklearn.preprocessing import StandardScaler\n",
        "\n",
        "X = df_train.drop([\"ID\", \"Timestamp\", \"Attack Type\"], axis=1)\n",
        "y = df_train[\"Attack Type\"]\n",
        "\n",
        "scaler = StandardScaler()\n",
        "X = scaler.fit_transform(X)\n",
        "\n",
        "X_train, X_val, y_train, y_val = train_test_split(X, y, test_size=0.2, random_state=42)\n",
        "\n",
        "model = HistGradientBoostingClassifier(random_state=42)\n",
        "model.fit(X_train, y_train)\n",
        "\n",
        "val_accuracy = model.score(X_val, y_val)\n",
        "print(f\"Validation Accuracy: {val_accuracy:.4f}\")\n",
        "\n",
        "test_scaled = scaler.transform(df_test.drop([\"ID\", \"Timestamp\"], axis=1))\n",
        "predictions = model.predict(test_scaled)\n",
        "\n",
        "df_test[\"Attack Type\"] = predictions\n",
        "df_test.to_csv(\"test_pred.csv\")"
      ],
      "metadata": {
        "colab": {
          "base_uri": "https://localhost:8080/"
        },
        "id": "KzVSzenPCN-c",
        "outputId": "e10f32ea-1071-47fb-b285-5c0bd3660293"
      },
      "execution_count": null,
      "outputs": [
        {
          "output_type": "stream",
          "name": "stdout",
          "text": [
            "Validation Accuracy: 0.9012\n"
          ]
        }
      ]
    },
    {
      "cell_type": "code",
      "source": [
        "with open(\"output.csv\", \"a\") as output:\n",
        "    writer = csv.DictWriter(output, fieldnames=[\"subtaskID\", \"datapointID\", \"answer\"])\n",
        "\n",
        "    with open(\"test_pred.csv\", \"r\") as pred:\n",
        "        reader = csv.reader(pred)\n",
        "        next(reader)\n",
        "\n",
        "        for row in reader:\n",
        "            writer.writerow({\"subtaskID\": 2, \"datapointID\": row[1], \"answer\": row[16]})"
      ],
      "metadata": {
        "id": "pKRqVJL35CkG"
      },
      "execution_count": null,
      "outputs": []
    }
  ]
}